{
  "nbformat": 4,
  "nbformat_minor": 0,
  "metadata": {
    "accelerator": "GPU",
    "colab": {
      "name": "DonkeyCar_on_Duckiebot (1).ipynb",
      "provenance": [],
      "collapsed_sections": [
        "Uwl-Ct1QZapS",
        "JopyWPttXqAa",
        "8IYt3nB5a-DH",
        "fXFZtafMdoKh",
        "v7lKyuc5juu3"
      ],
      "toc_visible": true
    },
    "kernelspec": {
      "display_name": "Python 3",
      "name": "python3"
    }
  },
  "cells": [
    {
      "cell_type": "markdown",
      "metadata": {
        "id": "c0R2ggFajp8m"
      },
      "source": [
        "# 1- 存到你的 Google Drive"
      ]
    },
    {
      "cell_type": "markdown",
      "metadata": {
        "id": "oGXyqGncjp8b"
      },
      "source": [
        "- [CC-BY](http://creativecommons.org/licenses/by/3.0/tw/) [十百千實驗室](https://medium.com/十百千實驗室)"
      ]
    },
    {
      "cell_type": "markdown",
      "metadata": {
        "id": "FNJPVrXDXWBY"
      },
      "source": [
        "# 2- Colab Notebook 基本操作"
      ]
    },
    {
      "cell_type": "markdown",
      "metadata": {
        "id": "4ZCyuJ_E1Wrm"
      },
      "source": [
        "## 2-0 更新 runtime，換成 tensorflow-1.13.1"
      ]
    },
    {
      "cell_type": "code",
      "metadata": {
        "colab": {
          "base_uri": "https://localhost:8080/"
        },
        "id": "7epBDm8dwZgq",
        "outputId": "9a284c28-f22f-464d-fb81-72d0cc482787"
      },
      "source": [
        "! pip uninstall -y tensorflow\n",
        "! pip install tensorflow-gpu==1.13.1\n",
        "! pip install docker==3.1.4"
      ],
      "execution_count": 1,
      "outputs": [
        {
          "output_type": "stream",
          "text": [
            "Uninstalling tensorflow-2.3.0:\n",
            "  Successfully uninstalled tensorflow-2.3.0\n",
            "Collecting tensorflow-gpu==1.13.1\n",
            "\u001b[?25l  Downloading https://files.pythonhosted.org/packages/7b/b1/0ad4ae02e17ddd62109cd54c291e311c4b5fd09b4d0678d3d6ce4159b0f0/tensorflow_gpu-1.13.1-cp36-cp36m-manylinux1_x86_64.whl (345.2MB)\n",
            "\u001b[K     |████████████████████████████████| 345.2MB 34kB/s \n",
            "\u001b[?25hRequirement already satisfied: absl-py>=0.1.6 in /usr/local/lib/python3.6/dist-packages (from tensorflow-gpu==1.13.1) (0.10.0)\n",
            "Requirement already satisfied: astor>=0.6.0 in /usr/local/lib/python3.6/dist-packages (from tensorflow-gpu==1.13.1) (0.8.1)\n",
            "Requirement already satisfied: keras-preprocessing>=1.0.5 in /usr/local/lib/python3.6/dist-packages (from tensorflow-gpu==1.13.1) (1.1.2)\n",
            "Collecting tensorflow-estimator<1.14.0rc0,>=1.13.0\n",
            "\u001b[?25l  Downloading https://files.pythonhosted.org/packages/bb/48/13f49fc3fa0fdf916aa1419013bb8f2ad09674c275b4046d5ee669a46873/tensorflow_estimator-1.13.0-py2.py3-none-any.whl (367kB)\n",
            "\u001b[K     |████████████████████████████████| 368kB 43.1MB/s \n",
            "\u001b[?25hRequirement already satisfied: numpy>=1.13.3 in /usr/local/lib/python3.6/dist-packages (from tensorflow-gpu==1.13.1) (1.18.5)\n",
            "Collecting keras-applications>=1.0.6\n",
            "\u001b[?25l  Downloading https://files.pythonhosted.org/packages/71/e3/19762fdfc62877ae9102edf6342d71b28fbfd9dea3d2f96a882ce099b03f/Keras_Applications-1.0.8-py3-none-any.whl (50kB)\n",
            "\u001b[K     |████████████████████████████████| 51kB 7.1MB/s \n",
            "\u001b[?25hRequirement already satisfied: protobuf>=3.6.1 in /usr/local/lib/python3.6/dist-packages (from tensorflow-gpu==1.13.1) (3.12.4)\n",
            "Requirement already satisfied: termcolor>=1.1.0 in /usr/local/lib/python3.6/dist-packages (from tensorflow-gpu==1.13.1) (1.1.0)\n",
            "Requirement already satisfied: six>=1.10.0 in /usr/local/lib/python3.6/dist-packages (from tensorflow-gpu==1.13.1) (1.15.0)\n",
            "Requirement already satisfied: grpcio>=1.8.6 in /usr/local/lib/python3.6/dist-packages (from tensorflow-gpu==1.13.1) (1.33.2)\n",
            "Collecting tensorboard<1.14.0,>=1.13.0\n",
            "\u001b[?25l  Downloading https://files.pythonhosted.org/packages/0f/39/bdd75b08a6fba41f098b6cb091b9e8c7a80e1b4d679a581a0ccd17b10373/tensorboard-1.13.1-py3-none-any.whl (3.2MB)\n",
            "\u001b[K     |████████████████████████████████| 3.2MB 40.6MB/s \n",
            "\u001b[?25hRequirement already satisfied: gast>=0.2.0 in /usr/local/lib/python3.6/dist-packages (from tensorflow-gpu==1.13.1) (0.3.3)\n",
            "Requirement already satisfied: wheel>=0.26 in /usr/local/lib/python3.6/dist-packages (from tensorflow-gpu==1.13.1) (0.35.1)\n",
            "Collecting mock>=2.0.0\n",
            "  Downloading https://files.pythonhosted.org/packages/cd/74/d72daf8dff5b6566db857cfd088907bb0355f5dd2914c4b3ef065c790735/mock-4.0.2-py3-none-any.whl\n",
            "Requirement already satisfied: h5py in /usr/local/lib/python3.6/dist-packages (from keras-applications>=1.0.6->tensorflow-gpu==1.13.1) (2.10.0)\n",
            "Requirement already satisfied: setuptools in /usr/local/lib/python3.6/dist-packages (from protobuf>=3.6.1->tensorflow-gpu==1.13.1) (50.3.2)\n",
            "Requirement already satisfied: markdown>=2.6.8 in /usr/local/lib/python3.6/dist-packages (from tensorboard<1.14.0,>=1.13.0->tensorflow-gpu==1.13.1) (3.3.3)\n",
            "Requirement already satisfied: werkzeug>=0.11.15 in /usr/local/lib/python3.6/dist-packages (from tensorboard<1.14.0,>=1.13.0->tensorflow-gpu==1.13.1) (1.0.1)\n",
            "Requirement already satisfied: importlib-metadata; python_version < \"3.8\" in /usr/local/lib/python3.6/dist-packages (from markdown>=2.6.8->tensorboard<1.14.0,>=1.13.0->tensorflow-gpu==1.13.1) (2.0.0)\n",
            "Requirement already satisfied: zipp>=0.5 in /usr/local/lib/python3.6/dist-packages (from importlib-metadata; python_version < \"3.8\"->markdown>=2.6.8->tensorboard<1.14.0,>=1.13.0->tensorflow-gpu==1.13.1) (3.4.0)\n",
            "Installing collected packages: mock, tensorflow-estimator, keras-applications, tensorboard, tensorflow-gpu\n",
            "  Found existing installation: tensorflow-estimator 2.3.0\n",
            "    Uninstalling tensorflow-estimator-2.3.0:\n",
            "      Successfully uninstalled tensorflow-estimator-2.3.0\n",
            "  Found existing installation: tensorboard 2.3.0\n",
            "    Uninstalling tensorboard-2.3.0:\n",
            "      Successfully uninstalled tensorboard-2.3.0\n",
            "Successfully installed keras-applications-1.0.8 mock-4.0.2 tensorboard-1.13.1 tensorflow-estimator-1.13.0 tensorflow-gpu-1.13.1\n"
          ],
          "name": "stdout"
        }
      ]
    },
    {
      "cell_type": "markdown",
      "metadata": {
        "id": "8v_dH_csG2sh"
      },
      "source": [
        "## 2-1 測試是否支援GPU"
      ]
    },
    {
      "cell_type": "code",
      "metadata": {
        "id": "qITFrlf9God4",
        "colab": {
          "base_uri": "https://localhost:8080/"
        },
        "outputId": "b891c0e1-c7a4-40c6-f731-39c3b4cd8a13"
      },
      "source": [
        "import tensorflow as tf\n",
        "device_name = tf.test.gpu_device_name()\n",
        "if device_name != '/device:GPU:0':\n",
        "  raise SystemError('GPU device not found')\n",
        "print('Found GPU at: {}'.format(device_name))"
      ],
      "execution_count": 3,
      "outputs": [
        {
          "output_type": "stream",
          "text": [
            "/usr/local/lib/python3.6/dist-packages/tensorflow/python/framework/dtypes.py:526: FutureWarning: Passing (type, 1) or '1type' as a synonym of type is deprecated; in a future version of numpy, it will be understood as (type, (1,)) / '(1,)type'.\n",
            "  _np_qint8 = np.dtype([(\"qint8\", np.int8, 1)])\n",
            "/usr/local/lib/python3.6/dist-packages/tensorflow/python/framework/dtypes.py:527: FutureWarning: Passing (type, 1) or '1type' as a synonym of type is deprecated; in a future version of numpy, it will be understood as (type, (1,)) / '(1,)type'.\n",
            "  _np_quint8 = np.dtype([(\"quint8\", np.uint8, 1)])\n",
            "/usr/local/lib/python3.6/dist-packages/tensorflow/python/framework/dtypes.py:528: FutureWarning: Passing (type, 1) or '1type' as a synonym of type is deprecated; in a future version of numpy, it will be understood as (type, (1,)) / '(1,)type'.\n",
            "  _np_qint16 = np.dtype([(\"qint16\", np.int16, 1)])\n",
            "/usr/local/lib/python3.6/dist-packages/tensorflow/python/framework/dtypes.py:529: FutureWarning: Passing (type, 1) or '1type' as a synonym of type is deprecated; in a future version of numpy, it will be understood as (type, (1,)) / '(1,)type'.\n",
            "  _np_quint16 = np.dtype([(\"quint16\", np.uint16, 1)])\n",
            "/usr/local/lib/python3.6/dist-packages/tensorflow/python/framework/dtypes.py:530: FutureWarning: Passing (type, 1) or '1type' as a synonym of type is deprecated; in a future version of numpy, it will be understood as (type, (1,)) / '(1,)type'.\n",
            "  _np_qint32 = np.dtype([(\"qint32\", np.int32, 1)])\n",
            "/usr/local/lib/python3.6/dist-packages/tensorflow/python/framework/dtypes.py:535: FutureWarning: Passing (type, 1) or '1type' as a synonym of type is deprecated; in a future version of numpy, it will be understood as (type, (1,)) / '(1,)type'.\n",
            "  np_resource = np.dtype([(\"resource\", np.ubyte, 1)])\n"
          ],
          "name": "stderr"
        },
        {
          "output_type": "stream",
          "text": [
            "Found GPU at: /device:GPU:0\n"
          ],
          "name": "stdout"
        }
      ]
    },
    {
      "cell_type": "markdown",
      "metadata": {
        "id": "Uwl-Ct1QZapS"
      },
      "source": [
        "## 2-2 進、出、換 cell\n",
        "1. ENTER進cell\n",
        "2. ESC出cell\n",
        "3. ↑↓換cell"
      ]
    },
    {
      "cell_type": "markdown",
      "metadata": {
        "id": "JopyWPttXqAa"
      },
      "source": [
        "## 2-2 上增、下增、刪除、轉換 cell\n",
        "1. CMD/CTRL+m a (above的意思)\n",
        "2. CMD/CTRL+m b (below的意思)\n",
        "3. CMD/CTRL+m d (delete的意思)\n",
        "4. CMD/CTRL+m m/y (轉成text/code)"
      ]
    },
    {
      "cell_type": "markdown",
      "metadata": {
        "id": "8IYt3nB5a-DH"
      },
      "source": [
        "## 2-3 在cell內\n",
        "1. ENTER換行編輯cell\n",
        "2. SHIFT+ENTER執行cell"
      ]
    },
    {
      "cell_type": "markdown",
      "metadata": {
        "id": "fXFZtafMdoKh"
      },
      "source": [
        "## 2-4 上一步/下一步\n",
        "1. 在cell內：CMD/CTRL+z/y \n",
        "2. 在cell外：CMD/CTRL+SHIFT+z/y "
      ]
    },
    {
      "cell_type": "markdown",
      "metadata": {
        "id": "v7lKyuc5juu3"
      },
      "source": [
        "## 2-5 Runtime\n",
        "1. restart 重開機的概念\n",
        "2. reset 重置、重灌的概念\n",
        "3. 換成GPU的，GPU的平行運算能大幅縮短神經網路的訓練時間"
      ]
    },
    {
      "cell_type": "markdown",
      "metadata": {
        "id": "5CORTmaGdz7r"
      },
      "source": [
        "# 3- 在 Colab 操作 Linux 指令"
      ]
    },
    {
      "cell_type": "markdown",
      "metadata": {
        "id": "YahOeLaofN_x"
      },
      "source": [
        "1. 你的Google雲端硬碟裡的Colab Notebook是跑在1.5hr/12hr自動重置的Linux虛擬機上\n",
        "2. 資料科學、機器學習、深度學習(神經網路)、Google Cloud API相關的Python函式庫皆已安裝\n",
        "3. 現成的AI實驗開發環境，使用Python程式語言\n",
        "4. 前置一個驚嘆號，使用Linux指令操作虛擬機\n",
        "5. 用 && 解決無法停留在 cd 後的工作目錄的問題"
      ]
    },
    {
      "cell_type": "markdown",
      "metadata": {
        "id": "TdQg-bwNT2da"
      },
      "source": [
        "# 4- 訓練（學）"
      ]
    },
    {
      "cell_type": "markdown",
      "metadata": {
        "id": "XGf8mEP4InQ6"
      },
      "source": [
        "## 4-1 安裝 Donkeycar 開發套件"
      ]
    },
    {
      "cell_type": "code",
      "metadata": {
        "id": "nZQCTMl45KLJ",
        "colab": {
          "base_uri": "https://localhost:8080/"
        },
        "outputId": "6b366133-e77f-4d57-dd19-bbcd643934b1"
      },
      "source": [
        "! git clone https://github.com/10965123/donkeycar_test.git\n",
        "! cd donkeycar_test/donkeycar/ && time pip3 install -e ."
      ],
      "execution_count": 10,
      "outputs": [
        {
          "output_type": "stream",
          "text": [
            "fatal: destination path 'donkeycar_test' already exists and is not an empty directory.\n",
            "Obtaining file:///content/donkeycar_test/donkeycar\n",
            "Requirement already satisfied: numpy in /usr/local/lib/python3.6/dist-packages (from donkeycar==3.1.1) (1.18.5)\n",
            "Requirement already satisfied: pillow in /usr/local/lib/python3.6/dist-packages (from donkeycar==3.1.1) (7.0.0)\n",
            "Requirement already satisfied: docopt in /usr/local/lib/python3.6/dist-packages (from donkeycar==3.1.1) (0.6.2)\n",
            "Requirement already satisfied: tornado in /usr/local/lib/python3.6/dist-packages (from donkeycar==3.1.1) (5.1.1)\n",
            "Requirement already satisfied: requests in /usr/local/lib/python3.6/dist-packages (from donkeycar==3.1.1) (2.23.0)\n",
            "Requirement already satisfied: h5py in /usr/local/lib/python3.6/dist-packages (from donkeycar==3.1.1) (2.10.0)\n",
            "Requirement already satisfied: moviepy in /usr/local/lib/python3.6/dist-packages (from donkeycar==3.1.1) (0.2.3.5)\n",
            "Requirement already satisfied: pandas in /usr/local/lib/python3.6/dist-packages (from donkeycar==3.1.1) (1.1.4)\n",
            "Requirement already satisfied: PrettyTable in /usr/local/lib/python3.6/dist-packages (from donkeycar==3.1.1) (1.0.1)\n",
            "Requirement already satisfied: paho-mqtt in /usr/local/lib/python3.6/dist-packages (from donkeycar==3.1.1) (1.5.1)\n",
            "Requirement already satisfied: urllib3!=1.25.0,!=1.25.1,<1.26,>=1.21.1 in /usr/local/lib/python3.6/dist-packages (from requests->donkeycar==3.1.1) (1.24.3)\n",
            "Requirement already satisfied: idna<3,>=2.5 in /usr/local/lib/python3.6/dist-packages (from requests->donkeycar==3.1.1) (2.10)\n",
            "Requirement already satisfied: certifi>=2017.4.17 in /usr/local/lib/python3.6/dist-packages (from requests->donkeycar==3.1.1) (2020.6.20)\n",
            "Requirement already satisfied: chardet<4,>=3.0.2 in /usr/local/lib/python3.6/dist-packages (from requests->donkeycar==3.1.1) (3.0.4)\n",
            "Requirement already satisfied: six in /usr/local/lib/python3.6/dist-packages (from h5py->donkeycar==3.1.1) (1.15.0)\n",
            "Requirement already satisfied: tqdm<5.0,>=4.11.2 in /usr/local/lib/python3.6/dist-packages (from moviepy->donkeycar==3.1.1) (4.41.1)\n",
            "Requirement already satisfied: imageio<3.0,>=2.1.2 in /usr/local/lib/python3.6/dist-packages (from moviepy->donkeycar==3.1.1) (2.4.1)\n",
            "Requirement already satisfied: decorator<5.0,>=4.0.2 in /usr/local/lib/python3.6/dist-packages (from moviepy->donkeycar==3.1.1) (4.4.2)\n",
            "Requirement already satisfied: python-dateutil>=2.7.3 in /usr/local/lib/python3.6/dist-packages (from pandas->donkeycar==3.1.1) (2.8.1)\n",
            "Requirement already satisfied: pytz>=2017.2 in /usr/local/lib/python3.6/dist-packages (from pandas->donkeycar==3.1.1) (2018.9)\n",
            "Requirement already satisfied: setuptools in /usr/local/lib/python3.6/dist-packages (from PrettyTable->donkeycar==3.1.1) (50.3.2)\n",
            "Requirement already satisfied: wcwidth in /usr/local/lib/python3.6/dist-packages (from PrettyTable->donkeycar==3.1.1) (0.2.5)\n",
            "Installing collected packages: donkeycar\n",
            "  Found existing installation: donkeycar 3.1.1\n",
            "    Can't uninstall 'donkeycar'. No files were found to uninstall.\n",
            "  Running setup.py develop for donkeycar\n",
            "Successfully installed donkeycar\n",
            "\n",
            "real\t0m3.337s\n",
            "user\t0m3.037s\n",
            "sys\t0m0.287s\n"
          ],
          "name": "stdout"
        }
      ]
    },
    {
      "cell_type": "markdown",
      "metadata": {
        "id": "ts8Ml-l2IMpP"
      },
      "source": [
        "## 4-2 安裝搖桿程式"
      ]
    },
    {
      "cell_type": "code",
      "metadata": {
        "id": "qxskIwLvPIiu",
        "colab": {
          "base_uri": "https://localhost:8080/"
        },
        "outputId": "6984fafb-71ff-472f-fc05-2c1084cb8362"
      },
      "source": [
        "! git clone https://github.com/raspberrypi-tw/donkeypart_ps3_controller\n",
        "! cd donkeypart_ps3_controller && python3 setup.py install"
      ],
      "execution_count": 5,
      "outputs": [
        {
          "output_type": "stream",
          "text": [
            "Cloning into 'donkeypart_ps3_controller'...\n",
            "remote: Enumerating objects: 6, done.\u001b[K\n",
            "remote: Counting objects:  16% (1/6)\u001b[K\rremote: Counting objects:  33% (2/6)\u001b[K\rremote: Counting objects:  50% (3/6)\u001b[K\rremote: Counting objects:  66% (4/6)\u001b[K\rremote: Counting objects:  83% (5/6)\u001b[K\rremote: Counting objects: 100% (6/6)\u001b[K\rremote: Counting objects: 100% (6/6), done.\u001b[K\n",
            "remote: Compressing objects:  25% (1/4)\u001b[K\rremote: Compressing objects:  50% (2/4)\u001b[K\rremote: Compressing objects:  75% (3/4)\u001b[K\rremote: Compressing objects: 100% (4/4)\u001b[K\rremote: Compressing objects: 100% (4/4), done.\u001b[K\n",
            "remote: Total 118 (delta 2), reused 6 (delta 2), pack-reused 112\n",
            "Receiving objects:   0% (1/118)   \rReceiving objects:   1% (2/118)   \rReceiving objects:   2% (3/118)   \rReceiving objects:   3% (4/118)   \rReceiving objects:   4% (5/118)   \rReceiving objects:   5% (6/118)   \rReceiving objects:   6% (8/118)   \rReceiving objects:   7% (9/118)   \rReceiving objects:   8% (10/118)   \rReceiving objects:   9% (11/118)   \rReceiving objects:  10% (12/118)   \rReceiving objects:  11% (13/118)   \rReceiving objects:  12% (15/118)   \rReceiving objects:  13% (16/118)   \rReceiving objects:  14% (17/118)   \rReceiving objects:  15% (18/118)   \rReceiving objects:  16% (19/118)   \rReceiving objects:  17% (21/118)   \rReceiving objects:  18% (22/118)   \rReceiving objects:  19% (23/118)   \rReceiving objects:  20% (24/118)   \rReceiving objects:  21% (25/118)   \rReceiving objects:  22% (26/118)   \rReceiving objects:  23% (28/118)   \rReceiving objects:  24% (29/118)   \rReceiving objects:  25% (30/118)   \rReceiving objects:  26% (31/118)   \rReceiving objects:  27% (32/118)   \rReceiving objects:  28% (34/118)   \rReceiving objects:  29% (35/118)   \rReceiving objects:  30% (36/118)   \rReceiving objects:  31% (37/118)   \rReceiving objects:  32% (38/118)   \rReceiving objects:  33% (39/118)   \rReceiving objects:  34% (41/118)   \rReceiving objects:  35% (42/118)   \rReceiving objects:  36% (43/118)   \rReceiving objects:  37% (44/118)   \rReceiving objects:  38% (45/118)   \rReceiving objects:  39% (47/118)   \rReceiving objects:  40% (48/118)   \rReceiving objects:  41% (49/118)   \rReceiving objects:  42% (50/118)   \rReceiving objects:  43% (51/118)   \rReceiving objects:  44% (52/118)   \rReceiving objects:  45% (54/118)   \rReceiving objects:  46% (55/118)   \rReceiving objects:  47% (56/118)   \rReceiving objects:  48% (57/118)   \rReceiving objects:  49% (58/118)   \rReceiving objects:  50% (59/118)   \rReceiving objects:  51% (61/118)   \rReceiving objects:  52% (62/118)   \rReceiving objects:  53% (63/118)   \rReceiving objects:  54% (64/118)   \rReceiving objects:  55% (65/118)   \rReceiving objects:  56% (67/118)   \rReceiving objects:  57% (68/118)   \rReceiving objects:  58% (69/118)   \rReceiving objects:  59% (70/118)   \rReceiving objects:  60% (71/118)   \rReceiving objects:  61% (72/118)   \rReceiving objects:  62% (74/118)   \rReceiving objects:  63% (75/118)   \rReceiving objects:  64% (76/118)   \rReceiving objects:  65% (77/118)   \rReceiving objects:  66% (78/118)   \rReceiving objects:  67% (80/118)   \rReceiving objects:  68% (81/118)   \rReceiving objects:  69% (82/118)   \rReceiving objects:  70% (83/118)   \rReceiving objects:  71% (84/118)   \rReceiving objects:  72% (85/118)   \rReceiving objects:  73% (87/118)   \rReceiving objects:  74% (88/118)   \rReceiving objects:  75% (89/118)   \rReceiving objects:  76% (90/118)   \rReceiving objects:  77% (91/118)   \rReceiving objects:  78% (93/118)   \rReceiving objects:  79% (94/118)   \rReceiving objects:  80% (95/118)   \rReceiving objects:  81% (96/118)   \rReceiving objects:  82% (97/118)   \rReceiving objects:  83% (98/118)   \rReceiving objects:  84% (100/118)   \rReceiving objects:  85% (101/118)   \rReceiving objects:  86% (102/118)   \rReceiving objects:  87% (103/118)   \rReceiving objects:  88% (104/118)   \rReceiving objects:  89% (106/118)   \rReceiving objects:  90% (107/118)   \rReceiving objects:  91% (108/118)   \rReceiving objects:  92% (109/118)   \rReceiving objects:  93% (110/118)   \rReceiving objects:  94% (111/118)   \rReceiving objects:  95% (113/118)   \rReceiving objects:  96% (114/118)   \rReceiving objects:  97% (115/118)   \rReceiving objects:  98% (116/118)   \rReceiving objects:  99% (117/118)   \rReceiving objects: 100% (118/118)   \rReceiving objects: 100% (118/118), 61.03 KiB | 15.26 MiB/s, done.\n",
            "Resolving deltas:   0% (0/51)   \rResolving deltas:   1% (1/51)   \rResolving deltas:   3% (2/51)   \rResolving deltas:  35% (18/51)   \rResolving deltas:  64% (33/51)   \rResolving deltas:  72% (37/51)   \rResolving deltas:  78% (40/51)   \rResolving deltas:  88% (45/51)   \rResolving deltas:  90% (46/51)   \rResolving deltas:  94% (48/51)   \rResolving deltas:  96% (49/51)   \rResolving deltas:  98% (50/51)   \rResolving deltas: 100% (51/51)   \rResolving deltas: 100% (51/51), done.\n",
            "running install\n",
            "running bdist_egg\n",
            "running egg_info\n",
            "creating donkeypart_ps3_controller.egg-info\n",
            "writing donkeypart_ps3_controller.egg-info/PKG-INFO\n",
            "writing dependency_links to donkeypart_ps3_controller.egg-info/dependency_links.txt\n",
            "writing top-level names to donkeypart_ps3_controller.egg-info/top_level.txt\n",
            "writing manifest file 'donkeypart_ps3_controller.egg-info/SOURCES.txt'\n",
            "writing manifest file 'donkeypart_ps3_controller.egg-info/SOURCES.txt'\n",
            "installing library code to build/bdist.linux-x86_64/egg\n",
            "running install_lib\n",
            "running build_py\n",
            "creating build\n",
            "creating build/lib\n",
            "creating build/lib/donkeypart_ps3_controller\n",
            "copying donkeypart_ps3_controller/part.py -> build/lib/donkeypart_ps3_controller\n",
            "copying donkeypart_ps3_controller/__init__.py -> build/lib/donkeypart_ps3_controller\n",
            "creating build/bdist.linux-x86_64\n",
            "creating build/bdist.linux-x86_64/egg\n",
            "creating build/bdist.linux-x86_64/egg/donkeypart_ps3_controller\n",
            "copying build/lib/donkeypart_ps3_controller/part.py -> build/bdist.linux-x86_64/egg/donkeypart_ps3_controller\n",
            "copying build/lib/donkeypart_ps3_controller/__init__.py -> build/bdist.linux-x86_64/egg/donkeypart_ps3_controller\n",
            "byte-compiling build/bdist.linux-x86_64/egg/donkeypart_ps3_controller/part.py to part.cpython-36.pyc\n",
            "byte-compiling build/bdist.linux-x86_64/egg/donkeypart_ps3_controller/__init__.py to __init__.cpython-36.pyc\n",
            "creating build/bdist.linux-x86_64/egg/EGG-INFO\n",
            "copying donkeypart_ps3_controller.egg-info/PKG-INFO -> build/bdist.linux-x86_64/egg/EGG-INFO\n",
            "copying donkeypart_ps3_controller.egg-info/SOURCES.txt -> build/bdist.linux-x86_64/egg/EGG-INFO\n",
            "copying donkeypart_ps3_controller.egg-info/dependency_links.txt -> build/bdist.linux-x86_64/egg/EGG-INFO\n",
            "copying donkeypart_ps3_controller.egg-info/top_level.txt -> build/bdist.linux-x86_64/egg/EGG-INFO\n",
            "zip_safe flag not set; analyzing archive contents...\n",
            "creating dist\n",
            "creating 'dist/donkeypart_ps3_controller-0.0-py3.6.egg' and adding 'build/bdist.linux-x86_64/egg' to it\n",
            "removing 'build/bdist.linux-x86_64/egg' (and everything under it)\n",
            "Processing donkeypart_ps3_controller-0.0-py3.6.egg\n",
            "Copying donkeypart_ps3_controller-0.0-py3.6.egg to /usr/local/lib/python3.6/dist-packages\n",
            "Adding donkeypart-ps3-controller 0.0 to easy-install.pth file\n",
            "\n",
            "Installed /usr/local/lib/python3.6/dist-packages/donkeypart_ps3_controller-0.0-py3.6.egg\n",
            "Processing dependencies for donkeypart-ps3-controller==0.0\n",
            "Finished processing dependencies for donkeypart-ps3-controller==0.0\n"
          ],
          "name": "stdout"
        }
      ]
    },
    {
      "cell_type": "markdown",
      "metadata": {
        "id": "MrTdaCR4FFzs"
      },
      "source": [
        "## 4-3-1 完整複製（git clone）從樹莓派上傳（git push）至 GitHub 的 Repo\n",
        "## 移除mycar中的sample_manage.py並將sample_manage中的sample_manage.py放入mycar"
      ]
    },
    {
      "cell_type": "code",
      "metadata": {
        "id": "aWaMVOZJIWD7",
        "colab": {
          "base_uri": "https://localhost:8080/"
        },
        "outputId": "d4cbbae1-fba3-4b76-faac-72fe9ab06814"
      },
      "source": [
        "# 從 github 拉下你的<ID> mycar<REPO>raspberry\n",
        "! git clone https://github.com/10965123/mycar\n",
        "! git clone https://github.com/10965123/sample_manage.git\n",
        "! cd mycar/ && rm sample_manage.py\n",
        "! cp sample_manage/sample_manage.py mycar/\n"
      ],
      "execution_count": 17,
      "outputs": [
        {
          "output_type": "stream",
          "text": [
            "fatal: destination path 'mycar' already exists and is not an empty directory.\n",
            "fatal: destination path 'sample_manage' already exists and is not an empty directory.\n",
            "cp: cannot stat 'sample_manage/sample_manage.py': No such file or directory\n"
          ],
          "name": "stdout"
        }
      ]
    },
    {
      "cell_type": "code",
      "metadata": {
        "id": "fdZcIxiafC7u"
      },
      "source": [
        "# 複製 sample_manage.py 到 <REPO>\n",
        "! cp donkeypart_ps3_controller/sample_manage.py mycar"
      ],
      "execution_count": 7,
      "outputs": []
    },
    {
      "cell_type": "markdown",
      "metadata": {
        "id": "HmJ03Q97FlxL"
      },
      "source": [
        "## 4-3-2 下載差異（git pull）從樹莓派上傳（git push）至 GitHub 的 Repo"
      ]
    },
    {
      "cell_type": "code",
      "metadata": {
        "id": "bZt6MZLmteBb",
        "colab": {
          "base_uri": "https://localhost:8080/"
        },
        "outputId": "3dfcdf4a-433e-4bad-87b3-ac29ff548780"
      },
      "source": [
        "# 更新 Colab <REPO> 資料\n",
        "! cd mycar && rm -rf models\n",
        "! cd mycar && git pull"
      ],
      "execution_count": 14,
      "outputs": [
        {
          "output_type": "stream",
          "text": [
            "Already up to date.\n"
          ],
          "name": "stdout"
        }
      ]
    },
    {
      "cell_type": "markdown",
      "metadata": {
        "id": "BVEb-VpfGPFw"
      },
      "source": [
        "## 4-4 訓練各種深度神經網路 aka 深度學習模型\n",
        "1. model 自行命名，但副檔名必須是.h5\n",
        "2. type 選項  \n",
        "https://github.com/autorope/donkeycar/blob/dev/donkeycar/templates/train.py#L13\n",
        "3. DonkeyCar已實作的各種模型的說明和比較  \n",
        "http://docs.donkeycar.com/parts/keras/\n",
        "4. batch = 一次訓練的樣本數  \n",
        "epoch = 完整訓練的回合數"
      ]
    },
    {
      "cell_type": "code",
      "metadata": {
        "id": "tTGjZ1ORIkIH",
        "colab": {
          "base_uri": "https://localhost:8080/"
        },
        "outputId": "c68956c9-aa0d-4587-92a5-41b4120ddae1"
      },
      "source": [
        "# 進到 <REPO> 以後進行訓練，預設使用 linear\n",
        "! mkdir mycar/models\n",
        "! cd mycar && python sample_manage.py train --model models/lin_3.h5  # --tub data/tub資料夾名稱,data/tub資料夾名稱,..."
      ],
      "execution_count": 16,
      "outputs": [
        {
          "output_type": "stream",
          "text": [
            "mkdir: cannot create directory ‘mycar/models’: File exists\n",
            "using donkey v3.1.1 ...\n",
            "loading config file: /content/mycar/config.py\n",
            "loading personal config over-rides\n",
            "\n",
            "config loaded\n",
            "/usr/local/lib/python3.6/dist-packages/tensorflow/python/framework/dtypes.py:526: FutureWarning: Passing (type, 1) or '1type' as a synonym of type is deprecated; in a future version of numpy, it will be understood as (type, (1,)) / '(1,)type'.\n",
            "  _np_qint8 = np.dtype([(\"qint8\", np.int8, 1)])\n",
            "/usr/local/lib/python3.6/dist-packages/tensorflow/python/framework/dtypes.py:527: FutureWarning: Passing (type, 1) or '1type' as a synonym of type is deprecated; in a future version of numpy, it will be understood as (type, (1,)) / '(1,)type'.\n",
            "  _np_quint8 = np.dtype([(\"quint8\", np.uint8, 1)])\n",
            "/usr/local/lib/python3.6/dist-packages/tensorflow/python/framework/dtypes.py:528: FutureWarning: Passing (type, 1) or '1type' as a synonym of type is deprecated; in a future version of numpy, it will be understood as (type, (1,)) / '(1,)type'.\n",
            "  _np_qint16 = np.dtype([(\"qint16\", np.int16, 1)])\n",
            "/usr/local/lib/python3.6/dist-packages/tensorflow/python/framework/dtypes.py:529: FutureWarning: Passing (type, 1) or '1type' as a synonym of type is deprecated; in a future version of numpy, it will be understood as (type, (1,)) / '(1,)type'.\n",
            "  _np_quint16 = np.dtype([(\"quint16\", np.uint16, 1)])\n",
            "/usr/local/lib/python3.6/dist-packages/tensorflow/python/framework/dtypes.py:530: FutureWarning: Passing (type, 1) or '1type' as a synonym of type is deprecated; in a future version of numpy, it will be understood as (type, (1,)) / '(1,)type'.\n",
            "  _np_qint32 = np.dtype([(\"qint32\", np.int32, 1)])\n",
            "/usr/local/lib/python3.6/dist-packages/tensorflow/python/framework/dtypes.py:535: FutureWarning: Passing (type, 1) or '1type' as a synonym of type is deprecated; in a future version of numpy, it will be understood as (type, (1,)) / '(1,)type'.\n",
            "  np_resource = np.dtype([(\"resource\", np.ubyte, 1)])\n",
            "2020-11-22 10:44:23.040885: I tensorflow/core/platform/cpu_feature_guard.cc:141] Your CPU supports instructions that this TensorFlow binary was not compiled to use: AVX2 FMA\n",
            "2020-11-22 10:44:23.147496: I tensorflow/stream_executor/cuda/cuda_gpu_executor.cc:998] successful NUMA node read from SysFS had negative value (-1), but there must be at least one NUMA node, so returning NUMA node zero\n",
            "2020-11-22 10:44:23.148243: I tensorflow/compiler/xla/service/service.cc:150] XLA service 0x31e54a0 executing computations on platform CUDA. Devices:\n",
            "2020-11-22 10:44:23.148277: I tensorflow/compiler/xla/service/service.cc:158]   StreamExecutor device (0): Tesla T4, Compute Capability 7.5\n",
            "2020-11-22 10:44:23.150007: I tensorflow/core/platform/profile_utils/cpu_utils.cc:94] CPU Frequency: 2200000000 Hz\n",
            "2020-11-22 10:44:23.150257: I tensorflow/compiler/xla/service/service.cc:150] XLA service 0x31e5340 executing computations on platform Host. Devices:\n",
            "2020-11-22 10:44:23.150288: I tensorflow/compiler/xla/service/service.cc:158]   StreamExecutor device (0): <undefined>, <undefined>\n",
            "2020-11-22 10:44:23.150418: I tensorflow/core/common_runtime/gpu/gpu_device.cc:1433] Found device 0 with properties: \n",
            "name: Tesla T4 major: 7 minor: 5 memoryClockRate(GHz): 1.59\n",
            "pciBusID: 0000:00:04.0\n",
            "totalMemory: 14.73GiB freeMemory: 14.52GiB\n",
            "2020-11-22 10:44:23.150442: I tensorflow/core/common_runtime/gpu/gpu_device.cc:1512] Adding visible gpu devices: 0\n",
            "2020-11-22 10:44:23.151408: I tensorflow/core/common_runtime/gpu/gpu_device.cc:984] Device interconnect StreamExecutor with strength 1 edge matrix:\n",
            "2020-11-22 10:44:23.151433: I tensorflow/core/common_runtime/gpu/gpu_device.cc:990]      0 \n",
            "2020-11-22 10:44:23.151443: I tensorflow/core/common_runtime/gpu/gpu_device.cc:1003] 0:   N \n",
            "2020-11-22 10:44:23.151534: I tensorflow/core/common_runtime/gpu/gpu_device.cc:1115] Created TensorFlow device (/job:localhost/replica:0/task:0/device:GPU:0 with 14125 MB memory) -> physical GPU (device: 0, name: Tesla T4, pci bus id: 0000:00:04.0, compute capability: 7.5)\n",
            "\"get_model_by_type\" model Type is: linear\n",
            "WARNING:tensorflow:From /usr/local/lib/python3.6/dist-packages/tensorflow/python/ops/resource_variable_ops.py:435: colocate_with (from tensorflow.python.framework.ops) is deprecated and will be removed in a future version.\n",
            "Instructions for updating:\n",
            "Colocations handled automatically by placer.\n",
            "WARNING:tensorflow:From /usr/local/lib/python3.6/dist-packages/tensorflow/python/keras/layers/core.py:143: calling dropout (from tensorflow.python.ops.nn_ops) with keep_prob is deprecated and will be removed in a future version.\n",
            "Instructions for updating:\n",
            "Please use `rate` instead of `keep_prob`. Rate should be set to `rate = 1 - keep_prob`.\n",
            "WARNING:tensorflow:From /usr/local/lib/python3.6/dist-packages/tensorflow/python/keras/utils/losses_utils.py:170: to_float (from tensorflow.python.ops.math_ops) is deprecated and will be removed in a future version.\n",
            "Instructions for updating:\n",
            "Use tf.cast instead.\n",
            "training with model type <class 'donkeycar.parts.keras.KerasLinear'>\n",
            "__________________________________________________________________________________________________\n",
            "Layer (type)                    Output Shape         Param #     Connected to                     \n",
            "==================================================================================================\n",
            "img_in (InputLayer)             (None, 120, 160, 3)  0                                            \n",
            "__________________________________________________________________________________________________\n",
            "conv2d_1 (Conv2D)               (None, 58, 78, 24)   1824        img_in[0][0]                     \n",
            "__________________________________________________________________________________________________\n",
            "dropout (Dropout)               (None, 58, 78, 24)   0           conv2d_1[0][0]                   \n",
            "__________________________________________________________________________________________________\n",
            "conv2d_2 (Conv2D)               (None, 27, 37, 32)   19232       dropout[0][0]                    \n",
            "__________________________________________________________________________________________________\n",
            "dropout_1 (Dropout)             (None, 27, 37, 32)   0           conv2d_2[0][0]                   \n",
            "__________________________________________________________________________________________________\n",
            "conv2d_3 (Conv2D)               (None, 12, 17, 64)   51264       dropout_1[0][0]                  \n",
            "__________________________________________________________________________________________________\n",
            "dropout_2 (Dropout)             (None, 12, 17, 64)   0           conv2d_3[0][0]                   \n",
            "__________________________________________________________________________________________________\n",
            "conv2d_4 (Conv2D)               (None, 10, 15, 64)   36928       dropout_2[0][0]                  \n",
            "__________________________________________________________________________________________________\n",
            "dropout_3 (Dropout)             (None, 10, 15, 64)   0           conv2d_4[0][0]                   \n",
            "__________________________________________________________________________________________________\n",
            "conv2d_5 (Conv2D)               (None, 8, 13, 64)    36928       dropout_3[0][0]                  \n",
            "__________________________________________________________________________________________________\n",
            "dropout_4 (Dropout)             (None, 8, 13, 64)    0           conv2d_5[0][0]                   \n",
            "__________________________________________________________________________________________________\n",
            "flattened (Flatten)             (None, 6656)         0           dropout_4[0][0]                  \n",
            "__________________________________________________________________________________________________\n",
            "dense (Dense)                   (None, 100)          665700      flattened[0][0]                  \n",
            "__________________________________________________________________________________________________\n",
            "dropout_5 (Dropout)             (None, 100)          0           dense[0][0]                      \n",
            "__________________________________________________________________________________________________\n",
            "dense_1 (Dense)                 (None, 50)           5050        dropout_5[0][0]                  \n",
            "__________________________________________________________________________________________________\n",
            "dropout_6 (Dropout)             (None, 50)           0           dense_1[0][0]                    \n",
            "__________________________________________________________________________________________________\n",
            "n_outputs0 (Dense)              (None, 1)            51          dropout_6[0][0]                  \n",
            "__________________________________________________________________________________________________\n",
            "n_outputs1 (Dense)              (None, 1)            51          dropout_6[0][0]                  \n",
            "==================================================================================================\n",
            "Total params: 817,028\n",
            "Trainable params: 817,028\n",
            "Non-trainable params: 0\n",
            "__________________________________________________________________________________________________\n",
            "None\n",
            "found 0 pickles writing json records and images in tub /content/mycar/data/tub_1_20-11-20\n",
            "/content/mycar/data/tub_1_20-11-20\n",
            "collating 5462 records ...\n",
            "train: 4369, val: 1093\n",
            "total records: 5462\n",
            "steps_per_epoch 34\n",
            "WARNING:tensorflow:From /usr/local/lib/python3.6/dist-packages/tensorflow/python/ops/math_ops.py:3066: to_int32 (from tensorflow.python.ops.math_ops) is deprecated and will be removed in a future version.\n",
            "Instructions for updating:\n",
            "Use tf.cast instead.\n",
            "Epoch 1/100\n",
            "2020-11-22 10:44:27.493015: I tensorflow/stream_executor/dso_loader.cc:152] successfully opened CUDA library libcublas.so.10.0 locally\n",
            "8/8 [==============================] - 1s 107ms/step - loss: 0.1688 - n_outputs0_loss: 0.1505 - n_outputs1_loss: 0.0183\n",
            "\n",
            "Epoch 00001: val_loss improved from inf to 0.16876, saving model to models/lin_3.h5\n",
            "34/34 [==============================] - 6s 187ms/step - loss: 0.1979 - n_outputs0_loss: 0.1734 - n_outputs1_loss: 0.0245 - val_loss: 0.1688 - val_n_outputs0_loss: 0.1505 - val_n_outputs1_loss: 0.0183\n",
            "Epoch 2/100\n",
            "8/8 [==============================] - 0s 23ms/step - loss: 0.1089 - n_outputs0_loss: 0.1056 - n_outputs1_loss: 0.0033\n",
            "\n",
            "Epoch 00002: val_loss improved from 0.16876 to 0.10888, saving model to models/lin_3.h5\n",
            "34/34 [==============================] - 2s 62ms/step - loss: 0.1240 - n_outputs0_loss: 0.1151 - n_outputs1_loss: 0.0089 - val_loss: 0.1089 - val_n_outputs0_loss: 0.1056 - val_n_outputs1_loss: 0.0033\n",
            "Epoch 3/100\n",
            "8/8 [==============================] - 0s 21ms/step - loss: 0.1211 - n_outputs0_loss: 0.1198 - n_outputs1_loss: 0.0013\n",
            "\n",
            "Epoch 00003: val_loss did not improve from 0.10888\n",
            "34/34 [==============================] - 2s 53ms/step - loss: 0.1081 - n_outputs0_loss: 0.1003 - n_outputs1_loss: 0.0078 - val_loss: 0.1211 - val_n_outputs0_loss: 0.1198 - val_n_outputs1_loss: 0.0013\n",
            "Epoch 4/100\n",
            "8/8 [==============================] - 0s 22ms/step - loss: 0.1168 - n_outputs0_loss: 0.1131 - n_outputs1_loss: 0.0037\n",
            "\n",
            "Epoch 00004: val_loss did not improve from 0.10888\n",
            "34/34 [==============================] - 2s 53ms/step - loss: 0.0980 - n_outputs0_loss: 0.0919 - n_outputs1_loss: 0.0061 - val_loss: 0.1168 - val_n_outputs0_loss: 0.1131 - val_n_outputs1_loss: 0.0037\n",
            "Epoch 5/100\n",
            "8/8 [==============================] - 0s 27ms/step - loss: 0.1041 - n_outputs0_loss: 0.1029 - n_outputs1_loss: 0.0012\n",
            "\n",
            "Epoch 00005: val_loss improved from 0.10888 to 0.10414, saving model to models/lin_3.h5\n",
            "34/34 [==============================] - 2s 63ms/step - loss: 0.0942 - n_outputs0_loss: 0.0884 - n_outputs1_loss: 0.0059 - val_loss: 0.1041 - val_n_outputs0_loss: 0.1029 - val_n_outputs1_loss: 0.0012\n",
            "Epoch 6/100\n",
            "8/8 [==============================] - 0s 23ms/step - loss: 0.1071 - n_outputs0_loss: 0.1063 - n_outputs1_loss: 7.7342e-04\n",
            "\n",
            "Epoch 00006: val_loss did not improve from 0.10414\n",
            "34/34 [==============================] - 2s 53ms/step - loss: 0.0904 - n_outputs0_loss: 0.0859 - n_outputs1_loss: 0.0046 - val_loss: 0.1071 - val_n_outputs0_loss: 0.1063 - val_n_outputs1_loss: 7.7342e-04\n",
            "Epoch 7/100\n",
            "8/8 [==============================] - 0s 25ms/step - loss: 0.0939 - n_outputs0_loss: 0.0931 - n_outputs1_loss: 8.1648e-04\n",
            "\n",
            "Epoch 00007: val_loss improved from 0.10414 to 0.09395, saving model to models/lin_3.h5\n",
            "34/34 [==============================] - 2s 63ms/step - loss: 0.0882 - n_outputs0_loss: 0.0839 - n_outputs1_loss: 0.0044 - val_loss: 0.0939 - val_n_outputs0_loss: 0.0931 - val_n_outputs1_loss: 8.1648e-04\n",
            "Epoch 8/100\n",
            "8/8 [==============================] - 0s 23ms/step - loss: 0.1026 - n_outputs0_loss: 0.1017 - n_outputs1_loss: 9.1278e-04\n",
            "\n",
            "Epoch 00008: val_loss did not improve from 0.09395\n",
            "34/34 [==============================] - 2s 53ms/step - loss: 0.0894 - n_outputs0_loss: 0.0851 - n_outputs1_loss: 0.0043 - val_loss: 0.1026 - val_n_outputs0_loss: 0.1017 - val_n_outputs1_loss: 9.1278e-04\n",
            "Epoch 9/100\n",
            "8/8 [==============================] - 0s 24ms/step - loss: 0.1028 - n_outputs0_loss: 0.1026 - n_outputs1_loss: 2.7938e-04\n",
            "\n",
            "Epoch 00009: val_loss did not improve from 0.09395\n",
            "34/34 [==============================] - 2s 54ms/step - loss: 0.0883 - n_outputs0_loss: 0.0846 - n_outputs1_loss: 0.0037 - val_loss: 0.1028 - val_n_outputs0_loss: 0.1026 - val_n_outputs1_loss: 2.7938e-04\n",
            "Epoch 10/100\n",
            "8/8 [==============================] - 0s 22ms/step - loss: 0.0981 - n_outputs0_loss: 0.0979 - n_outputs1_loss: 2.1444e-04\n",
            "\n",
            "Epoch 00010: val_loss did not improve from 0.09395\n",
            "34/34 [==============================] - 2s 54ms/step - loss: 0.0861 - n_outputs0_loss: 0.0825 - n_outputs1_loss: 0.0037 - val_loss: 0.0981 - val_n_outputs0_loss: 0.0979 - val_n_outputs1_loss: 2.1444e-04\n",
            "Epoch 11/100\n",
            "8/8 [==============================] - 0s 23ms/step - loss: 0.1052 - n_outputs0_loss: 0.1041 - n_outputs1_loss: 0.0011\n",
            "\n",
            "Epoch 00011: val_loss did not improve from 0.09395\n",
            "34/34 [==============================] - 2s 53ms/step - loss: 0.0835 - n_outputs0_loss: 0.0803 - n_outputs1_loss: 0.0032 - val_loss: 0.1052 - val_n_outputs0_loss: 0.1041 - val_n_outputs1_loss: 0.0011\n",
            "Epoch 12/100\n",
            "8/8 [==============================] - 0s 24ms/step - loss: 0.1009 - n_outputs0_loss: 0.1003 - n_outputs1_loss: 5.7628e-04\n",
            "\n",
            "Epoch 00012: val_loss did not improve from 0.09395\n",
            "34/34 [==============================] - 2s 54ms/step - loss: 0.0821 - n_outputs0_loss: 0.0792 - n_outputs1_loss: 0.0029 - val_loss: 0.1009 - val_n_outputs0_loss: 0.1003 - val_n_outputs1_loss: 5.7628e-04\n",
            "Epoch 00012: early stopping\n",
            "Training completed in 0:00:30.\n",
            "\n",
            "\n",
            "----------- Best Eval Loss :0.093948 ---------\n",
            "<Figure size 640x480 with 1 Axes>\n"
          ],
          "name": "stdout"
        }
      ]
    },
    {
      "cell_type": "code",
      "metadata": {
        "id": "XlXIsAe-177b",
        "colab": {
          "base_uri": "https://localhost:8080/"
        },
        "outputId": "a19a83c9-953c-4a73-c1e9-2e0242c10136"
      },
      "source": [
        "# 進到 <REPO> 以後進行訓練，這次使用 rnn\n",
        "! mkdir mycar/models\n",
        "! cd mycar && python sample_manage.py train --model models/rnn_1.h5 --type rnn # --tub data/tub資料夾名稱,data/tub資料夾名稱,..."
      ],
      "execution_count": null,
      "outputs": [
        {
          "output_type": "stream",
          "text": [
            "mkdir: cannot create directory ‘mycar/models’: File exists\n",
            "using donkey v3.1.1 ...\n",
            "Traceback (most recent call last):\n",
            "  File \"sample_manage.py\", line 644, in <module>\n",
            "    cfg = dk.load_config(myconfig=args['--myconfig'])\n",
            "TypeError: load_config() got an unexpected keyword argument 'myconfig'\n"
          ],
          "name": "stdout"
        }
      ]
    },
    {
      "cell_type": "markdown",
      "metadata": {
        "id": "qUJ9v5x6IxQF"
      },
      "source": [
        "## 4-5 遷移學習（增加訓練、增加技能）"
      ]
    },
    {
      "cell_type": "code",
      "metadata": {
        "id": "gDvO4snm2b7x"
      },
      "source": [
        "! cd mycar && python sample_manage.py train --transfer models/rnn_1.h5 --model models/rnn_2.h5 --type rnn"
      ],
      "execution_count": null,
      "outputs": []
    },
    {
      "cell_type": "markdown",
      "metadata": {
        "id": "T2sD9AvSEFzy"
      },
      "source": [
        "# 5- 推論（用）"
      ]
    }
  ]
}